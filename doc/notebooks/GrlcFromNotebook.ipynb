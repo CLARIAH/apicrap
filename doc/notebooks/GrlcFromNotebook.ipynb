{
 "cells": [
  {
   "cell_type": "markdown",
   "metadata": {},
   "source": [
    "# Using grlc from python\n",
    "Being written in python itself, it is easy to use grlc from python. Here we show how to use grlc to run a SPARQL query which is stored on github.\n",
    "\n",
    "First we start by importing grlc (and a couple other libraries we use for working with the data)."
   ]
  },
  {
   "cell_type": "code",
   "execution_count": null,
   "metadata": {},
   "outputs": [],
   "source": [
    "import json\n",
    "import pandas as pd\n",
    "from io import StringIO\n",
    "\n",
    "import grlc\n",
    "import grlc.utils as utils\n",
    "import grlc.swagger as swagger"
   ]
  },
  {
   "cell_type": "markdown",
   "metadata": {},
   "source": [
    "We can load the grlc specification for a github repository. For example, the grlc test query repository https://github.com/CLARIAH/grlc-queries."
   ]
  },
  {
   "cell_type": "code",
   "execution_count": 2,
   "metadata": {},
   "outputs": [],
   "source": [
    "user = 'CLARIAH'\n",
    "repo = 'grlc-queries'\n",
    "spec, warning = swagger.build_spec(user, repo, git_type=grlc.static.TYPE_GITHUB)"
   ]
  },
  {
   "cell_type": "markdown",
   "metadata": {},
   "source": [
    "We can have a look at one item of the returned specification."
   ]
  },
  {
   "cell_type": "code",
   "execution_count": 3,
   "metadata": {},
   "outputs": [
    {
     "name": "stdout",
     "output_type": "stream",
     "text": [
      "{\n",
      "  \"call_name\": \"/defaults\",\n",
      "  \"method\": \"get\",\n",
      "  \"tags\": [],\n",
      "  \"summary\": \"\",\n",
      "  \"description\": \"\",\n",
      "  \"params\": [\n",
      "    {\n",
      "      \"name\": \"endpoint\",\n",
      "      \"type\": \"string\",\n",
      "      \"in\": \"query\",\n",
      "      \"description\": \"Alternative endpoint for SPARQL query\",\n",
      "      \"default\": \"https://dbpedia.org/sparql\"\n",
      "    },\n",
      "    {\n",
      "      \"name\": \"genre\",\n",
      "      \"type\": \"string\",\n",
      "      \"required\": true,\n",
      "      \"in\": \"query\",\n",
      "      \"description\": \"A value of type string (iri) that will substitute ?_genre_iri in the original query\",\n",
      "      \"format\": \"iri\",\n",
      "      \"default\": \"http://dbpedia.org/resource/Rock_music\"\n",
      "    }\n",
      "  ],\n",
      "  \"item_properties\": null,\n",
      "  \"query\": \"\\nPREFIX dbo: <http://dbpedia.org/ontology/>\\nPREFIX dbp: <http://dbpedia.org/property/>\\nPREFIX schema: <http://schema.org/>\\nPREFIX rdf: <http://www.w3.org/1999/02/22-rdf-syntax-ns#>\\n\\nSELECT ?band ?album WHERE {\\n  ?band rdf:type dbo:Band .\\n  ?album rdf:type schema:MusicAlbum .\\n  ?band dbo:genre ?_genre_iri .\\n  ?album dbp:artist ?band .\\n} LIMIT 100\\n\",\n",
      "  \"original_query\": \"#+ defaults:\\n#+   - genre: http://dbpedia.org/resource/Rock_music\\n\\nPREFIX dbo: <http://dbpedia.org/ontology/>\\nPREFIX dbp: <http://dbpedia.org/property/>\\nPREFIX schema: <http://schema.org/>\\nPREFIX rdf: <http://www.w3.org/1999/02/22-rdf-syntax-ns#>\\n\\nSELECT ?band ?album WHERE {\\n  ?band rdf:type dbo:Band .\\n  ?album rdf:type schema:MusicAlbum .\\n  ?band dbo:genre ?_genre_iri .\\n  ?album dbp:artist ?band .\\n} LIMIT 100\\n\"\n",
      "}\n"
     ]
    }
   ],
   "source": [
    "print(json.dumps(spec[0], indent=2))"
   ]
  },
  {
   "cell_type": "markdown",
   "metadata": {},
   "source": [
    "This specification item will execute the following SPARQL query:"
   ]
  },
  {
   "cell_type": "code",
   "execution_count": 4,
   "metadata": {},
   "outputs": [
    {
     "name": "stdout",
     "output_type": "stream",
     "text": [
      "\n",
      "PREFIX dbo: <http://dbpedia.org/ontology/>\n",
      "PREFIX dbp: <http://dbpedia.org/property/>\n",
      "PREFIX schema: <http://schema.org/>\n",
      "PREFIX rdf: <http://www.w3.org/1999/02/22-rdf-syntax-ns#>\n",
      "\n",
      "SELECT ?band ?album WHERE {\n",
      "  ?band rdf:type dbo:Band .\n",
      "  ?album rdf:type schema:MusicAlbum .\n",
      "  ?band dbo:genre ?_genre_iri .\n",
      "  ?album dbp:artist ?band .\n",
      "} LIMIT 100\n",
      "\n"
     ]
    }
   ],
   "source": [
    "print(spec[0]['query'])"
   ]
  },
  {
   "cell_type": "markdown",
   "metadata": {},
   "source": [
    "We can execute this query by calling the API point in our generated API:"
   ]
  },
  {
   "cell_type": "code",
   "execution_count": 5,
   "metadata": {},
   "outputs": [
    {
     "name": "stdout",
     "output_type": "stream",
     "text": [
      "/defaults\n"
     ]
    }
   ],
   "source": [
    "print(spec[0]['call_name'])"
   ]
  },
  {
   "cell_type": "markdown",
   "metadata": {},
   "source": [
    "We can use `dispatch_query` functions to load data from a specific query (`description` in this case). For this example, we are loading data in `text/csv` format.\n",
    "\n",
    "**NOTE:** `description` query loads data from dbpedia.org -- the endpoint is specified in the repository `endpoint.txt` file."
   ]
  },
  {
   "cell_type": "code",
   "execution_count": 6,
   "metadata": {},
   "outputs": [],
   "source": [
    "query_name = 'description'\n",
    "acceptHeader = 'text/csv'\n",
    "\n",
    "data, code, headers = utils.dispatch_query(user, repo, query_name, git_type=grlc.static.TYPE_GITHUB, acceptHeader=acceptHeader)"
   ]
  },
  {
   "cell_type": "markdown",
   "metadata": {},
   "source": [
    "Now we just transform these results to a pandas dataframe."
   ]
  },
  {
   "cell_type": "code",
   "execution_count": 7,
   "metadata": {},
   "outputs": [
    {
     "data": {
      "text/html": [
       "<div>\n",
       "<style scoped>\n",
       "    .dataframe tbody tr th:only-of-type {\n",
       "        vertical-align: middle;\n",
       "    }\n",
       "\n",
       "    .dataframe tbody tr th {\n",
       "        vertical-align: top;\n",
       "    }\n",
       "\n",
       "    .dataframe thead th {\n",
       "        text-align: right;\n",
       "    }\n",
       "</style>\n",
       "<table border=\"1\" class=\"dataframe\">\n",
       "  <thead>\n",
       "    <tr style=\"text-align: right;\">\n",
       "      <th></th>\n",
       "      <th>band</th>\n",
       "      <th>album</th>\n",
       "      <th>genre</th>\n",
       "    </tr>\n",
       "  </thead>\n",
       "  <tbody>\n",
       "    <tr>\n",
       "      <th>0</th>\n",
       "      <td>http://dbpedia.org/resource/Cactus_(American_b...</td>\n",
       "      <td>http://dbpedia.org/resource/Cactus_(Cactus_album)</td>\n",
       "      <td>http://dbpedia.org/resource/Blues_rock</td>\n",
       "    </tr>\n",
       "    <tr>\n",
       "      <th>1</th>\n",
       "      <td>http://dbpedia.org/resource/Cactus_(American_b...</td>\n",
       "      <td>http://dbpedia.org/resource/Cactus_(Cactus_album)</td>\n",
       "      <td>http://dbpedia.org/resource/Hard_rock</td>\n",
       "    </tr>\n",
       "    <tr>\n",
       "      <th>2</th>\n",
       "      <td>http://dbpedia.org/resource/Cactus_(American_b...</td>\n",
       "      <td>http://dbpedia.org/resource/Cactus_(Cactus_album)</td>\n",
       "      <td>http://dbpedia.org/resource/Heavy_metal_music</td>\n",
       "    </tr>\n",
       "    <tr>\n",
       "      <th>3</th>\n",
       "      <td>http://dbpedia.org/resource/Cactus_(American_b...</td>\n",
       "      <td>http://dbpedia.org/resource/Cactus_V</td>\n",
       "      <td>http://dbpedia.org/resource/Blues_rock</td>\n",
       "    </tr>\n",
       "    <tr>\n",
       "      <th>4</th>\n",
       "      <td>http://dbpedia.org/resource/Cactus_(American_b...</td>\n",
       "      <td>http://dbpedia.org/resource/Cactus_V</td>\n",
       "      <td>http://dbpedia.org/resource/Hard_rock</td>\n",
       "    </tr>\n",
       "    <tr>\n",
       "      <th>5</th>\n",
       "      <td>http://dbpedia.org/resource/Cactus_(American_b...</td>\n",
       "      <td>http://dbpedia.org/resource/Cactus_V</td>\n",
       "      <td>http://dbpedia.org/resource/Heavy_metal_music</td>\n",
       "    </tr>\n",
       "    <tr>\n",
       "      <th>6</th>\n",
       "      <td>http://dbpedia.org/resource/Cadet_(band)</td>\n",
       "      <td>http://dbpedia.org/resource/Cadet_(album)</td>\n",
       "      <td>http://dbpedia.org/resource/Christian_alternat...</td>\n",
       "    </tr>\n",
       "    <tr>\n",
       "      <th>7</th>\n",
       "      <td>http://dbpedia.org/resource/Cadet_(band)</td>\n",
       "      <td>http://dbpedia.org/resource/Cadet_(album)</td>\n",
       "      <td>http://dbpedia.org/resource/Garage_rock</td>\n",
       "    </tr>\n",
       "    <tr>\n",
       "      <th>8</th>\n",
       "      <td>http://dbpedia.org/resource/Cadet_(band)</td>\n",
       "      <td>http://dbpedia.org/resource/Cadet_(album)</td>\n",
       "      <td>http://dbpedia.org/resource/Rockabilly</td>\n",
       "    </tr>\n",
       "    <tr>\n",
       "      <th>9</th>\n",
       "      <td>http://dbpedia.org/resource/Café_Tacuba</td>\n",
       "      <td>http://dbpedia.org/resource/Café_Tacuba_(album)</td>\n",
       "      <td>http://dbpedia.org/resource/Latin_rock</td>\n",
       "    </tr>\n",
       "  </tbody>\n",
       "</table>\n",
       "</div>"
      ],
      "text/plain": [
       "                                                band  \\\n",
       "0  http://dbpedia.org/resource/Cactus_(American_b...   \n",
       "1  http://dbpedia.org/resource/Cactus_(American_b...   \n",
       "2  http://dbpedia.org/resource/Cactus_(American_b...   \n",
       "3  http://dbpedia.org/resource/Cactus_(American_b...   \n",
       "4  http://dbpedia.org/resource/Cactus_(American_b...   \n",
       "5  http://dbpedia.org/resource/Cactus_(American_b...   \n",
       "6           http://dbpedia.org/resource/Cadet_(band)   \n",
       "7           http://dbpedia.org/resource/Cadet_(band)   \n",
       "8           http://dbpedia.org/resource/Cadet_(band)   \n",
       "9            http://dbpedia.org/resource/Café_Tacuba   \n",
       "\n",
       "                                               album  \\\n",
       "0  http://dbpedia.org/resource/Cactus_(Cactus_album)   \n",
       "1  http://dbpedia.org/resource/Cactus_(Cactus_album)   \n",
       "2  http://dbpedia.org/resource/Cactus_(Cactus_album)   \n",
       "3               http://dbpedia.org/resource/Cactus_V   \n",
       "4               http://dbpedia.org/resource/Cactus_V   \n",
       "5               http://dbpedia.org/resource/Cactus_V   \n",
       "6          http://dbpedia.org/resource/Cadet_(album)   \n",
       "7          http://dbpedia.org/resource/Cadet_(album)   \n",
       "8          http://dbpedia.org/resource/Cadet_(album)   \n",
       "9    http://dbpedia.org/resource/Café_Tacuba_(album)   \n",
       "\n",
       "                                               genre  \n",
       "0             http://dbpedia.org/resource/Blues_rock  \n",
       "1              http://dbpedia.org/resource/Hard_rock  \n",
       "2      http://dbpedia.org/resource/Heavy_metal_music  \n",
       "3             http://dbpedia.org/resource/Blues_rock  \n",
       "4              http://dbpedia.org/resource/Hard_rock  \n",
       "5      http://dbpedia.org/resource/Heavy_metal_music  \n",
       "6  http://dbpedia.org/resource/Christian_alternat...  \n",
       "7            http://dbpedia.org/resource/Garage_rock  \n",
       "8             http://dbpedia.org/resource/Rockabilly  \n",
       "9             http://dbpedia.org/resource/Latin_rock  "
      ]
     },
     "execution_count": 7,
     "metadata": {},
     "output_type": "execute_result"
    }
   ],
   "source": [
    "data_grlc = pd.read_csv(StringIO(data))\n",
    "data_grlc.head(10)"
   ]
  },
  {
   "cell_type": "markdown",
   "metadata": {},
   "source": [
    "# Grlc via http\n",
    "\n",
    "Another alternative is to load data via a running grlc server (in this case `grlc.io`)."
   ]
  },
  {
   "cell_type": "code",
   "execution_count": 8,
   "metadata": {},
   "outputs": [],
   "source": [
    "import requests"
   ]
  },
  {
   "cell_type": "code",
   "execution_count": 9,
   "metadata": {},
   "outputs": [],
   "source": [
    "headers = {'accept': 'text/csv'}\n",
    "resp = requests.get(\"http://grlc.io/api-git/CLARIAH/grlc-queries/description\", headers=headers)"
   ]
  },
  {
   "cell_type": "code",
   "execution_count": 10,
   "metadata": {},
   "outputs": [
    {
     "data": {
      "text/html": [
       "<div>\n",
       "<style scoped>\n",
       "    .dataframe tbody tr th:only-of-type {\n",
       "        vertical-align: middle;\n",
       "    }\n",
       "\n",
       "    .dataframe tbody tr th {\n",
       "        vertical-align: top;\n",
       "    }\n",
       "\n",
       "    .dataframe thead th {\n",
       "        text-align: right;\n",
       "    }\n",
       "</style>\n",
       "<table border=\"1\" class=\"dataframe\">\n",
       "  <thead>\n",
       "    <tr style=\"text-align: right;\">\n",
       "      <th></th>\n",
       "      <th>band</th>\n",
       "      <th>album</th>\n",
       "      <th>genre</th>\n",
       "    </tr>\n",
       "  </thead>\n",
       "  <tbody>\n",
       "    <tr>\n",
       "      <th>0</th>\n",
       "      <td>http://dbpedia.org/resource/Cactus_(American_b...</td>\n",
       "      <td>http://dbpedia.org/resource/Cactus_(Cactus_album)</td>\n",
       "      <td>http://dbpedia.org/resource/Blues_rock</td>\n",
       "    </tr>\n",
       "    <tr>\n",
       "      <th>1</th>\n",
       "      <td>http://dbpedia.org/resource/Cactus_(American_b...</td>\n",
       "      <td>http://dbpedia.org/resource/Cactus_(Cactus_album)</td>\n",
       "      <td>http://dbpedia.org/resource/Hard_rock</td>\n",
       "    </tr>\n",
       "    <tr>\n",
       "      <th>2</th>\n",
       "      <td>http://dbpedia.org/resource/Cactus_(American_b...</td>\n",
       "      <td>http://dbpedia.org/resource/Cactus_(Cactus_album)</td>\n",
       "      <td>http://dbpedia.org/resource/Heavy_metal_music</td>\n",
       "    </tr>\n",
       "    <tr>\n",
       "      <th>3</th>\n",
       "      <td>http://dbpedia.org/resource/Cactus_(American_b...</td>\n",
       "      <td>http://dbpedia.org/resource/Cactus_V</td>\n",
       "      <td>http://dbpedia.org/resource/Blues_rock</td>\n",
       "    </tr>\n",
       "    <tr>\n",
       "      <th>4</th>\n",
       "      <td>http://dbpedia.org/resource/Cactus_(American_b...</td>\n",
       "      <td>http://dbpedia.org/resource/Cactus_V</td>\n",
       "      <td>http://dbpedia.org/resource/Hard_rock</td>\n",
       "    </tr>\n",
       "    <tr>\n",
       "      <th>5</th>\n",
       "      <td>http://dbpedia.org/resource/Cactus_(American_b...</td>\n",
       "      <td>http://dbpedia.org/resource/Cactus_V</td>\n",
       "      <td>http://dbpedia.org/resource/Heavy_metal_music</td>\n",
       "    </tr>\n",
       "    <tr>\n",
       "      <th>6</th>\n",
       "      <td>http://dbpedia.org/resource/Cadet_(band)</td>\n",
       "      <td>http://dbpedia.org/resource/Cadet_(album)</td>\n",
       "      <td>http://dbpedia.org/resource/Christian_alternat...</td>\n",
       "    </tr>\n",
       "    <tr>\n",
       "      <th>7</th>\n",
       "      <td>http://dbpedia.org/resource/Cadet_(band)</td>\n",
       "      <td>http://dbpedia.org/resource/Cadet_(album)</td>\n",
       "      <td>http://dbpedia.org/resource/Garage_rock</td>\n",
       "    </tr>\n",
       "    <tr>\n",
       "      <th>8</th>\n",
       "      <td>http://dbpedia.org/resource/Cadet_(band)</td>\n",
       "      <td>http://dbpedia.org/resource/Cadet_(album)</td>\n",
       "      <td>http://dbpedia.org/resource/Rockabilly</td>\n",
       "    </tr>\n",
       "    <tr>\n",
       "      <th>9</th>\n",
       "      <td>http://dbpedia.org/resource/Café_Tacuba</td>\n",
       "      <td>http://dbpedia.org/resource/Café_Tacuba_(album)</td>\n",
       "      <td>http://dbpedia.org/resource/Latin_rock</td>\n",
       "    </tr>\n",
       "  </tbody>\n",
       "</table>\n",
       "</div>"
      ],
      "text/plain": [
       "                                                band  \\\n",
       "0  http://dbpedia.org/resource/Cactus_(American_b...   \n",
       "1  http://dbpedia.org/resource/Cactus_(American_b...   \n",
       "2  http://dbpedia.org/resource/Cactus_(American_b...   \n",
       "3  http://dbpedia.org/resource/Cactus_(American_b...   \n",
       "4  http://dbpedia.org/resource/Cactus_(American_b...   \n",
       "5  http://dbpedia.org/resource/Cactus_(American_b...   \n",
       "6           http://dbpedia.org/resource/Cadet_(band)   \n",
       "7           http://dbpedia.org/resource/Cadet_(band)   \n",
       "8           http://dbpedia.org/resource/Cadet_(band)   \n",
       "9            http://dbpedia.org/resource/Café_Tacuba   \n",
       "\n",
       "                                               album  \\\n",
       "0  http://dbpedia.org/resource/Cactus_(Cactus_album)   \n",
       "1  http://dbpedia.org/resource/Cactus_(Cactus_album)   \n",
       "2  http://dbpedia.org/resource/Cactus_(Cactus_album)   \n",
       "3               http://dbpedia.org/resource/Cactus_V   \n",
       "4               http://dbpedia.org/resource/Cactus_V   \n",
       "5               http://dbpedia.org/resource/Cactus_V   \n",
       "6          http://dbpedia.org/resource/Cadet_(album)   \n",
       "7          http://dbpedia.org/resource/Cadet_(album)   \n",
       "8          http://dbpedia.org/resource/Cadet_(album)   \n",
       "9    http://dbpedia.org/resource/Café_Tacuba_(album)   \n",
       "\n",
       "                                               genre  \n",
       "0             http://dbpedia.org/resource/Blues_rock  \n",
       "1              http://dbpedia.org/resource/Hard_rock  \n",
       "2      http://dbpedia.org/resource/Heavy_metal_music  \n",
       "3             http://dbpedia.org/resource/Blues_rock  \n",
       "4              http://dbpedia.org/resource/Hard_rock  \n",
       "5      http://dbpedia.org/resource/Heavy_metal_music  \n",
       "6  http://dbpedia.org/resource/Christian_alternat...  \n",
       "7            http://dbpedia.org/resource/Garage_rock  \n",
       "8             http://dbpedia.org/resource/Rockabilly  \n",
       "9             http://dbpedia.org/resource/Latin_rock  "
      ]
     },
     "execution_count": 10,
     "metadata": {},
     "output_type": "execute_result"
    }
   ],
   "source": [
    "data_requests = pd.read_csv(StringIO(resp.text))\n",
    "data_requests.head(10)"
   ]
  },
  {
   "cell_type": "code",
   "execution_count": null,
   "metadata": {},
   "outputs": [],
   "source": []
  }
 ],
 "metadata": {
  "kernelspec": {
   "display_name": "Python 3 (ipykernel)",
   "language": "python",
   "name": "python3"
  },
  "language_info": {
   "codemirror_mode": {
    "name": "ipython",
    "version": 3
   },
   "file_extension": ".py",
   "mimetype": "text/x-python",
   "name": "python",
   "nbconvert_exporter": "python",
   "pygments_lexer": "ipython3",
   "version": "3.9.18"
  }
 },
 "nbformat": 4,
 "nbformat_minor": 4
}
