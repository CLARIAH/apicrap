{
 "cells": [
  {
   "cell_type": "markdown",
   "metadata": {},
   "source": [
    "# Using grlc from python\n",
    "Being written in python itself, it is easy to use grlc from python. Here we show how to use grlc to run a SPARQL query which is stored on github.\n",
    "\n",
    "First we start by importing grlc (and a couple other libraries we use for working with the data)."
   ]
  },
  {
   "cell_type": "code",
   "execution_count": 15,
   "metadata": {},
   "outputs": [],
   "source": [
    "import json\n",
    "import pandas as pd\n",
    "from io import StringIO\n",
    "\n",
    "import grlc\n",
    "import grlc.utils as utils\n",
    "import grlc.swagger as swagger"
   ]
  },
  {
   "cell_type": "markdown",
   "metadata": {},
   "source": [
    "We can load the grlc specification for a github repository. For example, the grlc test query repository https://github.com/CLARIAH/grlc-queries."
   ]
  },
  {
   "cell_type": "code",
   "execution_count": null,
   "metadata": {},
   "outputs": [],
   "source": [
    "user = 'CLARIAH'\n",
    "repo = 'grlc-queries'\n",
    "spec, warning = swagger.build_spec(user, repo)"
   ]
  },
  {
   "cell_type": "markdown",
   "metadata": {},
   "source": [
    "We can have a look at one item of the returned specification."
   ]
  },
  {
   "cell_type": "code",
   "execution_count": 18,
   "metadata": {},
   "outputs": [
    {
     "name": "stdout",
     "output_type": "stream",
     "text": [
      "{\n",
      "  \"call_name\": \"/description\",\n",
      "  \"method\": \"get\",\n",
      "  \"tags\": [],\n",
      "  \"summary\": \"\",\n",
      "  \"description\": \"Extended description of my query/operation. This can be a more extensive than the summary and in can span multiple lines.\\nDescriptions support (to some extent) [CommonMark](https://commonmark.org/help/).\",\n",
      "  \"params\": [\n",
      "    {\n",
      "      \"name\": \"endpoint\",\n",
      "      \"type\": \"string\",\n",
      "      \"in\": \"query\",\n",
      "      \"description\": \"Alternative endpoint for SPARQL query\",\n",
      "      \"default\": \"https://dbpedia.org/sparql\"\n",
      "    }\n",
      "  ],\n",
      "  \"item_properties\": null,\n",
      "  \"query\": \"\\nPREFIX dbo: <http://dbpedia.org/ontology/>\\nPREFIX schema: <http://schema.org/>\\nPREFIX rdf: <http://www.w3.org/1999/02/22-rdf-syntax-ns#>\\n\\nSELECT ?band ?album ?genre WHERE {\\n  ?band rdf:type dbo:Band .\\n  ?album rdf:type schema:MusicAlbum .\\n  ?band dbo:genre ?genre .\\n  ?album dbo:artist ?band .\\n} LIMIT 100\\n\",\n",
      "  \"original_query\": \"#+ description: Extended description of my query/operation.\\n#+     This can be a more extensive than the summary and in can span\\n#+     multiple lines.\\n#+\\n#+     Descriptions support (to some extent) [CommonMark](https://commonmark.org/help/).\\n\\nPREFIX dbo: <http://dbpedia.org/ontology/>\\nPREFIX schema: <http://schema.org/>\\nPREFIX rdf: <http://www.w3.org/1999/02/22-rdf-syntax-ns#>\\n\\nSELECT ?band ?album ?genre WHERE {\\n  ?band rdf:type dbo:Band .\\n  ?album rdf:type schema:MusicAlbum .\\n  ?band dbo:genre ?genre .\\n  ?album dbo:artist ?band .\\n} LIMIT 100\\n\"\n",
      "}\n"
     ]
    }
   ],
   "source": [
    "print(json.dumps(spec[0], indent=2))"
   ]
  },
  {
   "cell_type": "markdown",
   "metadata": {},
   "source": [
    "This specification item will execute the following SPARQL query:"
   ]
  },
  {
   "cell_type": "code",
   "execution_count": 4,
   "metadata": {},
   "outputs": [
    {
     "name": "stdout",
     "output_type": "stream",
     "text": [
      "\n",
      "PREFIX dbo: <http://dbpedia.org/ontology/>\n",
      "PREFIX schema: <http://schema.org/>\n",
      "PREFIX rdf: <http://www.w3.org/1999/02/22-rdf-syntax-ns#>\n",
      "\n",
      "SELECT ?band ?album ?genre WHERE {\n",
      "  ?band rdf:type dbo:Band .\n",
      "  ?album rdf:type schema:MusicAlbum .\n",
      "  ?band dbo:genre ?genre .\n",
      "  ?album dbo:artist ?band .\n",
      "} LIMIT 100\n",
      "\n"
     ]
    }
   ],
   "source": [
    "print(spec[0]['query'])"
   ]
  },
  {
   "cell_type": "markdown",
   "metadata": {},
   "source": [
    "We can execute this query by calling the API point in our generated API:"
   ]
  },
  {
   "cell_type": "code",
   "execution_count": 5,
   "metadata": {},
   "outputs": [
    {
     "name": "stdout",
     "output_type": "stream",
     "text": [
      "/description\n"
     ]
    }
   ],
   "source": [
    "print(spec[0]['call_name'])"
   ]
  },
  {
   "cell_type": "markdown",
   "metadata": {},
   "source": [
    "We can use `dispatch_query` functions to load data from a specific query (`description` in this case). For this example, we are loading data in `text/csv` format.\n",
    "\n",
    "**NOTE:** `description` query loads data from dbpedia.org -- the endpoint is specified in the repository `endpoint.txt` file."
   ]
  },
  {
   "cell_type": "code",
   "execution_count": 6,
   "metadata": {},
   "outputs": [
    {
     "name": "stdout",
     "output_type": "stream",
     "text": [
      "Requesting query at https://raw.githubusercontent.com/CLARIAH/grlc-queries/master/description.rq\n",
      "Requesting query at https://raw.githubusercontent.com/CLARIAH/grlc-queries/master/endpoint.txt\n"
     ]
    }
   ],
   "source": [
    "query_name = 'description'\n",
    "acceptHeader = 'text/csv'\n",
    "\n",
    "data, code, headers = utils.dispatch_query(user, repo, query_name, acceptHeader=acceptHeader)"
   ]
  },
  {
   "cell_type": "markdown",
   "metadata": {},
   "source": [
    "Now we just transform these results to a pandas dataframe."
   ]
  },
  {
   "cell_type": "code",
   "execution_count": 7,
   "metadata": {},
   "outputs": [
    {
     "data": {
      "text/html": [
       "<div>\n",
       "<style scoped>\n",
       "    .dataframe tbody tr th:only-of-type {\n",
       "        vertical-align: middle;\n",
       "    }\n",
       "\n",
       "    .dataframe tbody tr th {\n",
       "        vertical-align: top;\n",
       "    }\n",
       "\n",
       "    .dataframe thead th {\n",
       "        text-align: right;\n",
       "    }\n",
       "</style>\n",
       "<table border=\"1\" class=\"dataframe\">\n",
       "  <thead>\n",
       "    <tr style=\"text-align: right;\">\n",
       "      <th></th>\n",
       "      <th>band</th>\n",
       "      <th>album</th>\n",
       "      <th>genre</th>\n",
       "    </tr>\n",
       "  </thead>\n",
       "  <tbody>\n",
       "    <tr>\n",
       "      <th>0</th>\n",
       "      <td>http://dbpedia.org/resource/Asia_(band)</td>\n",
       "      <td>http://dbpedia.org/resource/Axioms_(album)</td>\n",
       "      <td>http://dbpedia.org/resource/Art_rock</td>\n",
       "    </tr>\n",
       "    <tr>\n",
       "      <th>1</th>\n",
       "      <td>http://dbpedia.org/resource/Asia_(band)</td>\n",
       "      <td>http://dbpedia.org/resource/Axioms_(album)</td>\n",
       "      <td>http://dbpedia.org/resource/Progressive_rock</td>\n",
       "    </tr>\n",
       "    <tr>\n",
       "      <th>2</th>\n",
       "      <td>http://dbpedia.org/resource/Asia_(band)</td>\n",
       "      <td>http://dbpedia.org/resource/Axioms_(album)</td>\n",
       "      <td>http://dbpedia.org/resource/Album-oriented_rock</td>\n",
       "    </tr>\n",
       "    <tr>\n",
       "      <th>3</th>\n",
       "      <td>http://dbpedia.org/resource/Asia_(band)</td>\n",
       "      <td>http://dbpedia.org/resource/Axioms_(album)</td>\n",
       "      <td>http://dbpedia.org/resource/Arena_rock</td>\n",
       "    </tr>\n",
       "    <tr>\n",
       "      <th>4</th>\n",
       "      <td>http://dbpedia.org/resource/Bauhaus_(band)</td>\n",
       "      <td>http://dbpedia.org/resource/Swing_the_Heartach...</td>\n",
       "      <td>http://dbpedia.org/resource/Gothic_rock</td>\n",
       "    </tr>\n",
       "    <tr>\n",
       "      <th>5</th>\n",
       "      <td>http://dbpedia.org/resource/Bauhaus_(band)</td>\n",
       "      <td>http://dbpedia.org/resource/Swing_the_Heartach...</td>\n",
       "      <td>http://dbpedia.org/resource/Post-punk</td>\n",
       "    </tr>\n",
       "    <tr>\n",
       "      <th>6</th>\n",
       "      <td>http://dbpedia.org/resource/Catatonia_(band)</td>\n",
       "      <td>http://dbpedia.org/resource/Paper_Scissors_Sto...</td>\n",
       "      <td>http://dbpedia.org/resource/Alternative_rock</td>\n",
       "    </tr>\n",
       "    <tr>\n",
       "      <th>7</th>\n",
       "      <td>http://dbpedia.org/resource/Catatonia_(band)</td>\n",
       "      <td>http://dbpedia.org/resource/Paper_Scissors_Sto...</td>\n",
       "      <td>http://dbpedia.org/resource/Indie_rock</td>\n",
       "    </tr>\n",
       "    <tr>\n",
       "      <th>8</th>\n",
       "      <td>http://dbpedia.org/resource/Siouxsie_and_the_B...</td>\n",
       "      <td>http://dbpedia.org/resource/Tinderbox_(Siouxsi...</td>\n",
       "      <td>http://dbpedia.org/resource/Gothic_rock</td>\n",
       "    </tr>\n",
       "    <tr>\n",
       "      <th>9</th>\n",
       "      <td>http://dbpedia.org/resource/Siouxsie_and_the_B...</td>\n",
       "      <td>http://dbpedia.org/resource/Tinderbox_(Siouxsi...</td>\n",
       "      <td>http://dbpedia.org/resource/New_wave_music</td>\n",
       "    </tr>\n",
       "  </tbody>\n",
       "</table>\n",
       "</div>"
      ],
      "text/plain": [
       "                                                band  \\\n",
       "0            http://dbpedia.org/resource/Asia_(band)   \n",
       "1            http://dbpedia.org/resource/Asia_(band)   \n",
       "2            http://dbpedia.org/resource/Asia_(band)   \n",
       "3            http://dbpedia.org/resource/Asia_(band)   \n",
       "4         http://dbpedia.org/resource/Bauhaus_(band)   \n",
       "5         http://dbpedia.org/resource/Bauhaus_(band)   \n",
       "6       http://dbpedia.org/resource/Catatonia_(band)   \n",
       "7       http://dbpedia.org/resource/Catatonia_(band)   \n",
       "8  http://dbpedia.org/resource/Siouxsie_and_the_B...   \n",
       "9  http://dbpedia.org/resource/Siouxsie_and_the_B...   \n",
       "\n",
       "                                               album  \\\n",
       "0         http://dbpedia.org/resource/Axioms_(album)   \n",
       "1         http://dbpedia.org/resource/Axioms_(album)   \n",
       "2         http://dbpedia.org/resource/Axioms_(album)   \n",
       "3         http://dbpedia.org/resource/Axioms_(album)   \n",
       "4  http://dbpedia.org/resource/Swing_the_Heartach...   \n",
       "5  http://dbpedia.org/resource/Swing_the_Heartach...   \n",
       "6  http://dbpedia.org/resource/Paper_Scissors_Sto...   \n",
       "7  http://dbpedia.org/resource/Paper_Scissors_Sto...   \n",
       "8  http://dbpedia.org/resource/Tinderbox_(Siouxsi...   \n",
       "9  http://dbpedia.org/resource/Tinderbox_(Siouxsi...   \n",
       "\n",
       "                                             genre  \n",
       "0             http://dbpedia.org/resource/Art_rock  \n",
       "1     http://dbpedia.org/resource/Progressive_rock  \n",
       "2  http://dbpedia.org/resource/Album-oriented_rock  \n",
       "3           http://dbpedia.org/resource/Arena_rock  \n",
       "4          http://dbpedia.org/resource/Gothic_rock  \n",
       "5            http://dbpedia.org/resource/Post-punk  \n",
       "6     http://dbpedia.org/resource/Alternative_rock  \n",
       "7           http://dbpedia.org/resource/Indie_rock  \n",
       "8          http://dbpedia.org/resource/Gothic_rock  \n",
       "9       http://dbpedia.org/resource/New_wave_music  "
      ]
     },
     "execution_count": 7,
     "metadata": {},
     "output_type": "execute_result"
    }
   ],
   "source": [
    "data_grlc = pd.read_csv(StringIO(data))\n",
    "data_grlc.head(10)"
   ]
  },
  {
   "cell_type": "markdown",
   "metadata": {},
   "source": [
    "# Grlc via http\n",
    "\n",
    "Another alternative is to load data via a running grlc server (in this case `grlc.io`)."
   ]
  },
  {
   "cell_type": "code",
   "execution_count": 8,
   "metadata": {},
   "outputs": [],
   "source": [
    "import requests"
   ]
  },
  {
   "cell_type": "code",
   "execution_count": 9,
   "metadata": {},
   "outputs": [],
   "source": [
    "headers = {'accept': 'text/csv'}\n",
    "resp = requests.get(\"http://grlc.io/api-git/CLARIAH/grlc-queries/description\", headers=headers)"
   ]
  },
  {
   "cell_type": "code",
   "execution_count": 10,
   "metadata": {},
   "outputs": [
    {
     "data": {
      "text/html": [
       "<div>\n",
       "<style scoped>\n",
       "    .dataframe tbody tr th:only-of-type {\n",
       "        vertical-align: middle;\n",
       "    }\n",
       "\n",
       "    .dataframe tbody tr th {\n",
       "        vertical-align: top;\n",
       "    }\n",
       "\n",
       "    .dataframe thead th {\n",
       "        text-align: right;\n",
       "    }\n",
       "</style>\n",
       "<table border=\"1\" class=\"dataframe\">\n",
       "  <thead>\n",
       "    <tr style=\"text-align: right;\">\n",
       "      <th></th>\n",
       "      <th>band</th>\n",
       "      <th>album</th>\n",
       "      <th>genre</th>\n",
       "    </tr>\n",
       "  </thead>\n",
       "  <tbody>\n",
       "    <tr>\n",
       "      <th>0</th>\n",
       "      <td>http://dbpedia.org/resource/Asia_(band)</td>\n",
       "      <td>http://dbpedia.org/resource/Axioms_(album)</td>\n",
       "      <td>http://dbpedia.org/resource/Art_rock</td>\n",
       "    </tr>\n",
       "    <tr>\n",
       "      <th>1</th>\n",
       "      <td>http://dbpedia.org/resource/Asia_(band)</td>\n",
       "      <td>http://dbpedia.org/resource/Axioms_(album)</td>\n",
       "      <td>http://dbpedia.org/resource/Progressive_rock</td>\n",
       "    </tr>\n",
       "    <tr>\n",
       "      <th>2</th>\n",
       "      <td>http://dbpedia.org/resource/Asia_(band)</td>\n",
       "      <td>http://dbpedia.org/resource/Axioms_(album)</td>\n",
       "      <td>http://dbpedia.org/resource/Album-oriented_rock</td>\n",
       "    </tr>\n",
       "    <tr>\n",
       "      <th>3</th>\n",
       "      <td>http://dbpedia.org/resource/Asia_(band)</td>\n",
       "      <td>http://dbpedia.org/resource/Axioms_(album)</td>\n",
       "      <td>http://dbpedia.org/resource/Arena_rock</td>\n",
       "    </tr>\n",
       "    <tr>\n",
       "      <th>4</th>\n",
       "      <td>http://dbpedia.org/resource/Bauhaus_(band)</td>\n",
       "      <td>http://dbpedia.org/resource/Swing_the_Heartach...</td>\n",
       "      <td>http://dbpedia.org/resource/Gothic_rock</td>\n",
       "    </tr>\n",
       "    <tr>\n",
       "      <th>5</th>\n",
       "      <td>http://dbpedia.org/resource/Bauhaus_(band)</td>\n",
       "      <td>http://dbpedia.org/resource/Swing_the_Heartach...</td>\n",
       "      <td>http://dbpedia.org/resource/Post-punk</td>\n",
       "    </tr>\n",
       "    <tr>\n",
       "      <th>6</th>\n",
       "      <td>http://dbpedia.org/resource/Catatonia_(band)</td>\n",
       "      <td>http://dbpedia.org/resource/Paper_Scissors_Sto...</td>\n",
       "      <td>http://dbpedia.org/resource/Alternative_rock</td>\n",
       "    </tr>\n",
       "    <tr>\n",
       "      <th>7</th>\n",
       "      <td>http://dbpedia.org/resource/Catatonia_(band)</td>\n",
       "      <td>http://dbpedia.org/resource/Paper_Scissors_Sto...</td>\n",
       "      <td>http://dbpedia.org/resource/Indie_rock</td>\n",
       "    </tr>\n",
       "    <tr>\n",
       "      <th>8</th>\n",
       "      <td>http://dbpedia.org/resource/Siouxsie_and_the_B...</td>\n",
       "      <td>http://dbpedia.org/resource/Tinderbox_(Siouxsi...</td>\n",
       "      <td>http://dbpedia.org/resource/Gothic_rock</td>\n",
       "    </tr>\n",
       "    <tr>\n",
       "      <th>9</th>\n",
       "      <td>http://dbpedia.org/resource/Siouxsie_and_the_B...</td>\n",
       "      <td>http://dbpedia.org/resource/Tinderbox_(Siouxsi...</td>\n",
       "      <td>http://dbpedia.org/resource/New_wave_music</td>\n",
       "    </tr>\n",
       "  </tbody>\n",
       "</table>\n",
       "</div>"
      ],
      "text/plain": [
       "                                                band  \\\n",
       "0            http://dbpedia.org/resource/Asia_(band)   \n",
       "1            http://dbpedia.org/resource/Asia_(band)   \n",
       "2            http://dbpedia.org/resource/Asia_(band)   \n",
       "3            http://dbpedia.org/resource/Asia_(band)   \n",
       "4         http://dbpedia.org/resource/Bauhaus_(band)   \n",
       "5         http://dbpedia.org/resource/Bauhaus_(band)   \n",
       "6       http://dbpedia.org/resource/Catatonia_(band)   \n",
       "7       http://dbpedia.org/resource/Catatonia_(band)   \n",
       "8  http://dbpedia.org/resource/Siouxsie_and_the_B...   \n",
       "9  http://dbpedia.org/resource/Siouxsie_and_the_B...   \n",
       "\n",
       "                                               album  \\\n",
       "0         http://dbpedia.org/resource/Axioms_(album)   \n",
       "1         http://dbpedia.org/resource/Axioms_(album)   \n",
       "2         http://dbpedia.org/resource/Axioms_(album)   \n",
       "3         http://dbpedia.org/resource/Axioms_(album)   \n",
       "4  http://dbpedia.org/resource/Swing_the_Heartach...   \n",
       "5  http://dbpedia.org/resource/Swing_the_Heartach...   \n",
       "6  http://dbpedia.org/resource/Paper_Scissors_Sto...   \n",
       "7  http://dbpedia.org/resource/Paper_Scissors_Sto...   \n",
       "8  http://dbpedia.org/resource/Tinderbox_(Siouxsi...   \n",
       "9  http://dbpedia.org/resource/Tinderbox_(Siouxsi...   \n",
       "\n",
       "                                             genre  \n",
       "0             http://dbpedia.org/resource/Art_rock  \n",
       "1     http://dbpedia.org/resource/Progressive_rock  \n",
       "2  http://dbpedia.org/resource/Album-oriented_rock  \n",
       "3           http://dbpedia.org/resource/Arena_rock  \n",
       "4          http://dbpedia.org/resource/Gothic_rock  \n",
       "5            http://dbpedia.org/resource/Post-punk  \n",
       "6     http://dbpedia.org/resource/Alternative_rock  \n",
       "7           http://dbpedia.org/resource/Indie_rock  \n",
       "8          http://dbpedia.org/resource/Gothic_rock  \n",
       "9       http://dbpedia.org/resource/New_wave_music  "
      ]
     },
     "execution_count": 10,
     "metadata": {},
     "output_type": "execute_result"
    }
   ],
   "source": [
    "data_requests = pd.read_csv(StringIO(resp.text))\n",
    "data_requests.head(10)"
   ]
  }
 ],
 "metadata": {
  "kernelspec": {
   "display_name": "Python 3",
   "language": "python",
   "name": "python3"
  },
  "language_info": {
   "codemirror_mode": {
    "name": "ipython",
    "version": 3
   },
   "file_extension": ".py",
   "mimetype": "text/x-python",
   "name": "python",
   "nbconvert_exporter": "python",
   "pygments_lexer": "ipython3",
   "version": "3.8.5"
  }
 },
 "nbformat": 4,
 "nbformat_minor": 2
}
