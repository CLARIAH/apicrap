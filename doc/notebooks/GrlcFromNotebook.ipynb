{
 "cells": [
  {
   "cell_type": "markdown",
   "metadata": {},
   "source": [
    "# Using grlc from python\n",
    "Being written in python itself, it is easy to use grlc from python. Here we show how to use grlc to run a SPARQL query which is stored on github.\n",
    "\n",
    "First we start by importing grlc (and a couple other libraries we use for working with the data)."
   ]
  },
  {
   "cell_type": "code",
   "execution_count": 1,
   "metadata": {},
   "outputs": [
    {
     "name": "stderr",
     "output_type": "stream",
     "text": [
      "INFO:rdflib:RDFLib Version: 4.2.1\n"
     ]
    }
   ],
   "source": [
    "import pandas as pd\n",
    "from io import StringIO\n",
    "\n",
    "import grlc\n",
    "import grlc.utils as utils\n",
    "import grlc.swagger as swagger\n"
   ]
  },
  {
   "cell_type": "markdown",
   "metadata": {},
   "source": [
    "We can load the grlc specification for a github repository. For example, my github username is `c-martinez` and my SPARQL queries are on `grlc-queries` [repo](https://github.com/c-martinez/grlc-queries). "
   ]
  },
  {
   "cell_type": "code",
   "execution_count": 2,
   "metadata": {},
   "outputs": [
    {
     "name": "stderr",
     "output_type": "stream",
     "text": [
      "INFO:grlc.gquery:Decorator guessed endpoint: http://dbpedia.org/sparql\n",
      "INFO:grlc.gquery:Decorator guessed endpoint: http://dbpedia.org/sparql\n"
     ]
    }
   ],
   "source": [
    "user = 'c-martinez'\n",
    "repo = 'grlc-queries'\n",
    "spec = swagger.build_spec(user, repo)"
   ]
  },
  {
   "cell_type": "code",
   "execution_count": 11,
   "metadata": {},
   "outputs": [
    {
     "name": "stdout",
     "output_type": "stream",
     "text": [
      "['call_name', 'params', 'description', 'tags', 'item_properties', 'query', 'method', 'summary']\n"
     ]
    }
   ],
   "source": [
    "print spec[0].keys()"
   ]
  },
  {
   "cell_type": "code",
   "execution_count": 10,
   "metadata": {},
   "outputs": [
    {
     "name": "stdout",
     "output_type": "stream",
     "text": [
      "\n",
      "PREFIX dbo: <http://dbpedia.org/ontology/>\n",
      "\n",
      "SELECT ?country_name ?capital_name ?population\n",
      "WHERE {\n",
      "  ?country rdf:type dbo:Country .\n",
      "  ?country dbo:capital ?capital .\n",
      "\n",
      "  ?capital rdfs:label  ?capital_name .\n",
      "  ?country rdfs:label  ?country_name .\n",
      "  ?country dbo:populationTotal ?population .\n",
      "\n",
      "  FILTER (lang(?capital_name) = 'en')\n",
      "  FILTER (lang(?country_name) = 'en')\n",
      "  FILTER NOT EXISTS { ?country dbo:dissolutionYear ?yearEnd }\n",
      "  FILTER (?population > 500000)\n",
      "} LIMIT 1000\n",
      "\n"
     ]
    }
   ],
   "source": [
    "print spec[0]['query']"
   ]
  },
  {
   "cell_type": "markdown",
   "metadata": {},
   "source": [
    "We can use `dispatch_query` functions to load data from a specific query (`dbpediaCapitals` in this case). For this example, we are loading data in `text/csv` format.\n",
    "\n",
    "**NOTE:** `dbpediaCapitals` query loads data from dbpedia.org -- the endpoint is specified via the endpoint decorator on the query file itself."
   ]
  },
  {
   "cell_type": "code",
   "execution_count": 4,
   "metadata": {},
   "outputs": [
    {
     "name": "stderr",
     "output_type": "stream",
     "text": [
      "INFO:grlc.gquery:Decorator guessed endpoint: http://dbpedia.org/sparql\n"
     ]
    }
   ],
   "source": [
    "query_name = 'dbpediaCapitals'\n",
    "acceptHeader = 'text/csv'\n",
    "\n",
    "data, code, headers = utils.dispatch_query(user, repo, query_name, acceptHeader=acceptHeader)"
   ]
  },
  {
   "cell_type": "markdown",
   "metadata": {},
   "source": [
    "Now we just transform these results to a pandas dataframe."
   ]
  },
  {
   "cell_type": "code",
   "execution_count": 5,
   "metadata": {},
   "outputs": [
    {
     "data": {
      "text/html": [
       "<div>\n",
       "<style scoped>\n",
       "    .dataframe tbody tr th:only-of-type {\n",
       "        vertical-align: middle;\n",
       "    }\n",
       "\n",
       "    .dataframe tbody tr th {\n",
       "        vertical-align: top;\n",
       "    }\n",
       "\n",
       "    .dataframe thead th {\n",
       "        text-align: right;\n",
       "    }\n",
       "</style>\n",
       "<table border=\"1\" class=\"dataframe\">\n",
       "  <thead>\n",
       "    <tr style=\"text-align: right;\">\n",
       "      <th></th>\n",
       "      <th>country_name</th>\n",
       "      <th>capital_name</th>\n",
       "      <th>population</th>\n",
       "    </tr>\n",
       "  </thead>\n",
       "  <tbody>\n",
       "    <tr>\n",
       "      <th>0</th>\n",
       "      <td>Albania</td>\n",
       "      <td>Tirana</td>\n",
       "      <td>2886026</td>\n",
       "    </tr>\n",
       "    <tr>\n",
       "      <th>1</th>\n",
       "      <td>Algeria</td>\n",
       "      <td>Algiers</td>\n",
       "      <td>40400000</td>\n",
       "    </tr>\n",
       "    <tr>\n",
       "      <th>2</th>\n",
       "      <td>Greece</td>\n",
       "      <td>Athens</td>\n",
       "      <td>10955000</td>\n",
       "    </tr>\n",
       "    <tr>\n",
       "      <th>3</th>\n",
       "      <td>Azerbaijan</td>\n",
       "      <td>Baku</td>\n",
       "      <td>9754830</td>\n",
       "    </tr>\n",
       "    <tr>\n",
       "      <th>4</th>\n",
       "      <td>Germany</td>\n",
       "      <td>Berlin</td>\n",
       "      <td>82175700</td>\n",
       "    </tr>\n",
       "    <tr>\n",
       "      <th>5</th>\n",
       "      <td>Brazil</td>\n",
       "      <td>Brasília</td>\n",
       "      <td>206440850</td>\n",
       "    </tr>\n",
       "    <tr>\n",
       "      <th>6</th>\n",
       "      <td>European Union</td>\n",
       "      <td>Brussels</td>\n",
       "      <td>510056011</td>\n",
       "    </tr>\n",
       "    <tr>\n",
       "      <th>7</th>\n",
       "      <td>Syria</td>\n",
       "      <td>Damascus</td>\n",
       "      <td>17064854</td>\n",
       "    </tr>\n",
       "    <tr>\n",
       "      <th>8</th>\n",
       "      <td>Finland</td>\n",
       "      <td>Helsinki</td>\n",
       "      <td>5488543</td>\n",
       "    </tr>\n",
       "    <tr>\n",
       "      <th>9</th>\n",
       "      <td>Indonesia</td>\n",
       "      <td>Jakarta</td>\n",
       "      <td>255461700</td>\n",
       "    </tr>\n",
       "  </tbody>\n",
       "</table>\n",
       "</div>"
      ],
      "text/plain": [
       "     country_name capital_name  population\n",
       "0         Albania       Tirana     2886026\n",
       "1         Algeria      Algiers    40400000\n",
       "2          Greece       Athens    10955000\n",
       "3      Azerbaijan         Baku     9754830\n",
       "4         Germany       Berlin    82175700\n",
       "5          Brazil     Brasília   206440850\n",
       "6  European Union     Brussels   510056011\n",
       "7           Syria     Damascus    17064854\n",
       "8         Finland     Helsinki     5488543\n",
       "9       Indonesia      Jakarta   255461700"
      ]
     },
     "execution_count": 5,
     "metadata": {},
     "output_type": "execute_result"
    }
   ],
   "source": [
    "data_grlc = pd.read_csv(StringIO(data))\n",
    "data_grlc.head(10)"
   ]
  },
  {
   "cell_type": "markdown",
   "metadata": {},
   "source": [
    "# Grlc via http\n",
    "\n",
    "Another alternative is to load data via a running grlc server (in this case `grlc.io`)."
   ]
  },
  {
   "cell_type": "code",
   "execution_count": 6,
   "metadata": {},
   "outputs": [],
   "source": [
    "import requests"
   ]
  },
  {
   "cell_type": "code",
   "execution_count": 7,
   "metadata": {},
   "outputs": [],
   "source": [
    "headers = {'accept': 'text/csv'}\n",
    "resp = requests.get(\"http://grlc.io/api/c-martinez/grlc-queries/dbpediaCapitals\", headers=headers)"
   ]
  },
  {
   "cell_type": "code",
   "execution_count": 8,
   "metadata": {},
   "outputs": [
    {
     "data": {
      "text/html": [
       "<div>\n",
       "<style scoped>\n",
       "    .dataframe tbody tr th:only-of-type {\n",
       "        vertical-align: middle;\n",
       "    }\n",
       "\n",
       "    .dataframe tbody tr th {\n",
       "        vertical-align: top;\n",
       "    }\n",
       "\n",
       "    .dataframe thead th {\n",
       "        text-align: right;\n",
       "    }\n",
       "</style>\n",
       "<table border=\"1\" class=\"dataframe\">\n",
       "  <thead>\n",
       "    <tr style=\"text-align: right;\">\n",
       "      <th></th>\n",
       "      <th>country_name</th>\n",
       "      <th>capital_name</th>\n",
       "      <th>population</th>\n",
       "    </tr>\n",
       "  </thead>\n",
       "  <tbody>\n",
       "    <tr>\n",
       "      <th>0</th>\n",
       "      <td>Albania</td>\n",
       "      <td>Tirana</td>\n",
       "      <td>2886026</td>\n",
       "    </tr>\n",
       "    <tr>\n",
       "      <th>1</th>\n",
       "      <td>Algeria</td>\n",
       "      <td>Algiers</td>\n",
       "      <td>40400000</td>\n",
       "    </tr>\n",
       "    <tr>\n",
       "      <th>2</th>\n",
       "      <td>Greece</td>\n",
       "      <td>Athens</td>\n",
       "      <td>10955000</td>\n",
       "    </tr>\n",
       "    <tr>\n",
       "      <th>3</th>\n",
       "      <td>Azerbaijan</td>\n",
       "      <td>Baku</td>\n",
       "      <td>9754830</td>\n",
       "    </tr>\n",
       "    <tr>\n",
       "      <th>4</th>\n",
       "      <td>Germany</td>\n",
       "      <td>Berlin</td>\n",
       "      <td>82175700</td>\n",
       "    </tr>\n",
       "    <tr>\n",
       "      <th>5</th>\n",
       "      <td>Brazil</td>\n",
       "      <td>Brasília</td>\n",
       "      <td>206440850</td>\n",
       "    </tr>\n",
       "    <tr>\n",
       "      <th>6</th>\n",
       "      <td>European Union</td>\n",
       "      <td>Brussels</td>\n",
       "      <td>510056011</td>\n",
       "    </tr>\n",
       "    <tr>\n",
       "      <th>7</th>\n",
       "      <td>Syria</td>\n",
       "      <td>Damascus</td>\n",
       "      <td>17064854</td>\n",
       "    </tr>\n",
       "    <tr>\n",
       "      <th>8</th>\n",
       "      <td>Finland</td>\n",
       "      <td>Helsinki</td>\n",
       "      <td>5488543</td>\n",
       "    </tr>\n",
       "    <tr>\n",
       "      <th>9</th>\n",
       "      <td>Indonesia</td>\n",
       "      <td>Jakarta</td>\n",
       "      <td>255461700</td>\n",
       "    </tr>\n",
       "  </tbody>\n",
       "</table>\n",
       "</div>"
      ],
      "text/plain": [
       "     country_name capital_name  population\n",
       "0         Albania       Tirana     2886026\n",
       "1         Algeria      Algiers    40400000\n",
       "2          Greece       Athens    10955000\n",
       "3      Azerbaijan         Baku     9754830\n",
       "4         Germany       Berlin    82175700\n",
       "5          Brazil     Brasília   206440850\n",
       "6  European Union     Brussels   510056011\n",
       "7           Syria     Damascus    17064854\n",
       "8         Finland     Helsinki     5488543\n",
       "9       Indonesia      Jakarta   255461700"
      ]
     },
     "execution_count": 8,
     "metadata": {},
     "output_type": "execute_result"
    }
   ],
   "source": [
    "data_requests = pd.read_csv(StringIO(resp.text))\n",
    "data_requests.head(10)"
   ]
  }
 ],
 "metadata": {
  "kernelspec": {
   "display_name": "Python 2",
   "language": "python",
   "name": "python2"
  },
  "language_info": {
   "codemirror_mode": {
    "name": "ipython",
    "version": 2
   },
   "file_extension": ".py",
   "mimetype": "text/x-python",
   "name": "python",
   "nbconvert_exporter": "python",
   "pygments_lexer": "ipython2",
   "version": "2.7.15rc1"
  }
 },
 "nbformat": 4,
 "nbformat_minor": 2
}
